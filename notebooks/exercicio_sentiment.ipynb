{
 "cells": [
  {
   "cell_type": "markdown",
   "metadata": {},
   "source": [
    "# Análise de Sentimentos"
   ]
  },
  {
   "cell_type": "markdown",
   "metadata": {},
   "source": [
    "#### Victor Marcius Magalhães Pinto"
   ]
  },
  {
   "cell_type": "code",
   "execution_count": 1,
   "metadata": {},
   "outputs": [],
   "source": [
    "%load_ext autoreload\n",
    "%autoreload 2\n",
    "\n",
    "from src.text_tokenize import TextTokenizer\n",
    "import pandas as pd\n",
    "import numpy as np\n",
    "from os.path import join\n",
    "from sklearn.model_selection import train_test_split\n",
    "import click"
   ]
  },
  {
   "cell_type": "code",
   "execution_count": 2,
   "metadata": {},
   "outputs": [
    {
     "name": "stdout",
     "output_type": "stream",
     "text": [
      "Train size 75000 Test size 25000\r\n"
     ]
    }
   ],
   "source": [
    "df = pd.read_csv(join(\"..\", 'data', 'processed', 'review_message.csv'))\n",
    "df[\"message\"] = df[\"message\"].apply(lambda d: \"none\" if type(d) == float else d)\n",
    "X = df.drop(['score'], axis=1)\n",
    "y = df[\"score\"]\n",
    "\n",
    "X_train, X_test, y_train, y_test = train_test_split(X, y)\n",
    "\n",
    "\n",
    "click.echo(f'Train size {X_train.shape[0]} Test size {X_test.shape[0]}')"
   ]
  },
  {
   "cell_type": "code",
   "execution_count": 35,
   "metadata": {},
   "outputs": [
    {
     "name": "stdout",
     "output_type": "stream",
     "text": [
      "Using GPU for spacy.\r\n"
     ]
    }
   ],
   "source": [
    "tk = TextTokenizer(X_train, \"message\", use_gpu=True, n_tokens=200)"
   ]
  },
  {
   "cell_type": "code",
   "execution_count": 36,
   "metadata": {},
   "outputs": [],
   "source": [
    "import json\n",
    "with open('..\\word_map.json', 'w') as fp:\n",
    "    json.dump(tk.map, fp, indent=4)"
   ]
  }
 ],
 "metadata": {
  "kernelspec": {
   "display_name": "Python 3",
   "language": "python",
   "name": "python3"
  },
  "language_info": {
   "codemirror_mode": {
    "name": "ipython",
    "version": 3
   },
   "file_extension": ".py",
   "mimetype": "text/x-python",
   "name": "python",
   "nbconvert_exporter": "python",
   "pygments_lexer": "ipython3",
   "version": "3.7.5"
  }
 },
 "nbformat": 4,
 "nbformat_minor": 4
}
