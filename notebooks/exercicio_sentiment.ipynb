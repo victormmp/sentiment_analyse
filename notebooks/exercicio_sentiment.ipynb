{
 "cells": [
  {
   "cell_type": "markdown",
   "metadata": {},
   "source": [
    "# Análise de Sentimentos"
   ]
  },
  {
   "cell_type": "markdown",
   "metadata": {},
   "source": [
    "#### Victor Marcius Magalhães Pinto"
   ]
  },
  {
   "cell_type": "markdown",
   "metadata": {},
   "source": [
    "Este exercício diz respeito ao tratamento de texto e seu uso em tarefas de classificação. Para este exercício, utilizaremos um connjunto de dados do *kaggle*, oriundos de site de *e-commerce*, que, entre outros dados, contém um dataset com mensagens de avaliação de produtos e sua pontuação atribuída, por consumidores, em um site [1]. \n",
    "\n",
    "Para a tarefade classificação, foi realizado um pré-tratamento dos mesmos, isolando apenas a coluna de mensagens (`message`) e a coluna de `scores` como target. As avaliações vão de 1 a 5, e para transformar em um problema de classificação binária, uma agregação dos mesmos foi feita, da forma:\n",
    "\n",
    "- 1 a 3 são classificados como `bad reviews` (classe 0)\n",
    "- 4 e 5 são classificados como `good reviews` (classe 1)\n",
    "\n",
    "Além disso, amostras com o review faltante foram substituídos por uma string \"none\". O dataset resultante foi salvo com o nome `review_message.csv`."
   ]
  },
  {
   "cell_type": "markdown",
   "metadata": {},
   "source": [
    "Primeiramente importamos as bibliotecas utilizadas para o projeto. Algumas funções foram encapsuladas, e importadas nesse notebook. Ao final serão mostradas."
   ]
  },
  {
   "cell_type": "code",
   "execution_count": 4,
   "metadata": {},
   "outputs": [
    {
     "name": "stdout",
     "output_type": "stream",
     "text": [
      "The autoreload extension is already loaded. To reload it, use:\n",
      "  %reload_ext autoreload\n"
     ]
    }
   ],
   "source": [
    "%load_ext autoreload\n",
    "%autoreload 2\n",
    "%matplotlib inline\n",
    "\n",
    "import json\n",
    "import os\n",
    "from collections import Counter\n",
    "from os.path import join\n",
    "import warnings\n",
    "\n",
    "from sklearn.decomposition import PCA\n",
    "import click\n",
    "import matplotlib.pyplot as plt\n",
    "import numpy as np\n",
    "import pandas as pd\n",
    "import torch\n",
    "import torch.nn as nn\n",
    "\n",
    "from sklearn.metrics import f1_score, classification_report, roc_auc_score\n",
    "from sklearn.model_selection import train_test_split\n",
    "from torch.optim import Adam\n",
    "\n",
    "from src.model import MLP\n",
    "from src.normalizer import Normalizer\n",
    "from src.pipelines import Pipeline\n",
    "from src.text_tokenize import TextTokenizer\n",
    "\n",
    "warnings.filterwarnings(\"ignore\")"
   ]
  },
  {
   "cell_type": "markdown",
   "metadata": {},
   "source": [
    "Para realizar a *tokenização* das frases, era necessário avaliar um dataset diferente do utilizado para predição, para evitar *leaking* de dados. Conceitualmente, isso faz sentido, onde realizamos todo o processo de extração de características em um dataset disponível, incluindo a *tokenização*, e aí sim aplicamos todas as transformações nos dados reais, sem que os valores destes tenham sido usados em qualquer parte do processo. Por isso, do conjuntos de dados tratado, vamos separar $25\\%$ para ser utilizados como caso de teste depois, e realizar o processo de extração de características sobre os $75\\%$ restantes.\n",
    "\n",
    "Dos dados tratados, devido ao processode salvamento, ainda é possível que alguns dados \"none\" tenham sido salvos como um valor `null` numérico do `numpy`, por exemplo. Por isso primeiramente vamos tratar esses dados novamente, inserindo \"none\" como valor. As amostras onde nenhum comentário foi colocado, apenas a nota, podem ser uma fonte de ruído, uma vez que é impossível saber a opinião do consumidor a partir disso. Portanto, todas as amostras com o valor \"none\" atribuído serão eliminadas do conjunto de dados. O conjunto de dados é desbalanceado, portanto para realizar a binarização da saída do modelo mais tarde, vamos salvar a proporção entre as classes. \n",
    "\n",
    "A saída do modelo é uma função sigmoidal, e para transformá-la em uma saída binária, um threshold de 0.5 pode ser aplicado. Porém como o conjunto de dados é  desbalanceado, experimentalmente, aplicar um threshold proporcional à probabilidade da classe desejada obteve um desempenho melhor de classificação."
   ]
  },
  {
   "cell_type": "code",
   "execution_count": 5,
   "metadata": {},
   "outputs": [
    {
     "name": "stdout",
     "output_type": "stream",
     "text": [
      "Data frame loaded with 100000 rows.\n",
      "Number of float values 0\n",
      "Class balance ratio : 0.64% of data is class 1.\n",
      "Train size 31239 - Test size 10414\n"
     ]
    }
   ],
   "source": [
    "LOAD_WORDMAP = True\n",
    "\n",
    "try:\n",
    "    df = pd.read_csv(join(\".\", 'data', 'processed', 'review_message.csv'))\n",
    "except FileNotFoundError:\n",
    "    df = pd.read_csv(join(\"..\", 'data', 'processed', 'review_message.csv'))\n",
    "\n",
    "click.echo(f'Data frame loaded with {df.shape[0]} rows.')\n",
    "\n",
    "# Cleaning missing data\n",
    "df[\"message\"] = df[\"message\"].apply(lambda d: \"none\" if type(d) == float else d)\n",
    "click.echo(f\"Number of float values {df[df.message.apply(type) == float].shape[0]}\")\n",
    "df = df[df['message'] != 'none']\n",
    "\n",
    "# Splitting into train / test data\n",
    "X = df.drop(['score'], axis=1)\n",
    "y = df[\"score\"]\n",
    "\n",
    "X_train, X_test, y_train, y_test = train_test_split(X, y)\n",
    "\n",
    "#  Calculate the class ratio\n",
    "class_ratio = y_train[y_train == 1].shape[0] / y_train.shape[0]\n",
    "\n",
    "click.echo(f\"Class balance ratio : {class_ratio:0.2f}% of data is class 1.\")\n",
    "click.echo(f'Train size {X_train.shape[0]} - Test size {X_test.shape[0]}')"
   ]
  },
  {
   "cell_type": "markdown",
   "metadata": {},
   "source": [
    "Com isso pronto, o próximo passo é gerar tokens para as palavras registradas. Para isso, a estratégia utilizada foi criar um mapa de palavra $\\to$ número, sendo este número atribuído com base na frequência de ocorrência da mesma, considerando todo o conjunto de dados de texto. Quanto mais frequente a palavra, maior o valor do token. \n",
    "\n",
    "Em cada frase, apeas os substativos, adjetivos, verbos e advérbios foram considerados, por serem mais significativos no sentimento escrito. O pacote python `spaCy` [2] foi utilizado para a análise semântica das palavras neste ponto. Um outro ajuste realizado foi transformar as palavras para seus *lemmas*, como conjugações no infitivo, por exemplo, para simplificar variações que na realidade não acrescentam muito pro sentido final, como por exemplo considerar \"entrega\", \"entregaram\", \"entregam\" como tokens diferentes, quando na realidade significam a mesma coisa."
   ]
  },
  {
   "cell_type": "code",
   "execution_count": 6,
   "metadata": {},
   "outputs": [
    {
     "name": "stdout",
     "output_type": "stream",
     "text": [
      "Generating word map\n",
      "Using GPU for spacy.\n",
      "9529 words mapped.\n",
      "Tokenizing datasets\n"
     ]
    }
   ],
   "source": [
    "click.echo('Generating word map')\n",
    "tk = TextTokenizer(X_train, \"message\", use_gpu=True, n_tokens=200)\n",
    "\n",
    "click.echo(f'Tokenizing datasets')\n",
    "\n",
    "X_train['message'] = X_train['message'].apply(lambda d: [tk.get(w) for w in d.split()])\n",
    "X_test['message'] = X_test['message'].apply(lambda d: [tk.get(w) for w in d.split()])"
   ]
  },
  {
   "cell_type": "markdown",
   "metadata": {},
   "source": [
    "Com isso os dados passam a ser uma coluna composta de um vetor de números. Como limitamos a quantidade de tokens em 200, podemos ter apenas 200 opções diferentes. Isso significa que agora podemos ter um dataset com um número fixo de features para cada amostra, se considerarmos cada token como uma coluna. Isto nos possibilita colocar em uma mesma dimensão frases de tamanhos diferentes. \n",
    "\n",
    "Traduzindo então estes vetores em uma matriz esparsa, onde cada coluna armazena a quantidade de vezes que determinado token foi observado na frase, geramos um novo conjunto de dados"
   ]
  },
  {
   "cell_type": "code",
   "execution_count": 9,
   "metadata": {},
   "outputs": [
    {
     "name": "stdout",
     "output_type": "stream",
     "text": [
      "Generating sparse features per token\r\n"
     ]
    }
   ],
   "source": [
    "click.echo('Generating sparse features per token')\n",
    "\n",
    "sparse_columns = [k for k in range(tk.n_tokens)]\n",
    "\n",
    "new_dataset = []\n",
    "with click.progressbar(X_train.iterrows(), length=X_train.shape[0], label=\"Generating sparse train dataset\") as bar:\n",
    "    for index, row in bar:\n",
    "        new_dataset += [dict(Counter(row['message']))]\n",
    "\n",
    "X_train = pd.DataFrame(new_dataset, columns=sparse_columns)\n",
    "\n",
    "new_dataset = []\n",
    "with click.progressbar(X_test.iterrows(), length=X_test.shape[0], label=\"Generating sparse test dataset\") as bar:\n",
    "    for index, row in bar:\n",
    "        new_dataset += [dict(Counter(row['message']))]\n",
    "\n",
    "X_test = pd.DataFrame(new_dataset, columns=sparse_columns)\n",
    "\n",
    "del sparse_columns, new_dataset\n",
    "\n",
    "X_train = X_train.fillna(0)\n",
    "X_test = X_test.fillna(0)"
   ]
  },
  {
   "cell_type": "markdown",
   "metadata": {},
   "source": [
    "Porém, uma matriz esparsa significa um desperdício no armazenamento de informações, uma vez que uma grande parte dos valores é zero. Para tanto, uma rotina de redução de dimensionalidade pode ser aplicada neste conjunto, e neste exercício escolhi PCA.\n",
    "\n",
    "Primeiramente a rotina de PCA é aplicada de forma a obter a quantidade de features necessárias, em uma nova base, para explicar $95\\%$ da variância dos datasets. Porém, para fins de plotagem, limitei a quantidade mínima de features a serem reduzidas a duas, caso o PCA indique que com apenas 1 feature podemos obter essa explicabilidade."
   ]
  },
  {
   "cell_type": "code",
   "execution_count": 11,
   "metadata": {},
   "outputs": [
    {
     "name": "stdout",
     "output_type": "stream",
     "text": [
      "Applying PCA\n",
      "Number of components obtained through PCA for 95% variance: 2\n"
     ]
    }
   ],
   "source": [
    "click.echo(f\"Applying PCA\")\n",
    "\n",
    "pca = PCA(n_components=0.95)\n",
    "\n",
    "pca.fit(X_train)\n",
    "n_components = max(2, pca.n_components_)\n",
    "pca = PCA(n_components=n_components)\n",
    "X_train = pca.fit_transform(X_train)\n",
    "\n",
    "click.echo(f'Number of components obtained through PCA for 95% variance: {n_components}')\n",
    "\n",
    "X_test = pca.transform(X_test)"
   ]
  },
  {
   "cell_type": "markdown",
   "metadata": {},
   "source": [
    "Em seguida, como será utilizada uma rede neural, é uma boa prática normalizar os dados de entrada ao longo das features. Isto ajuda tanto na velocidade de convergência de algoritmos de otimização, ao minimizarem funções de erro para a correção dos pesos, quanto para evitar *gradient vainishing* e *gradient exploding* quando a correção dos pesos tende a zero ou infinito, no *backpropagation*, devido ao gradiente. Normalizar os dados ainda ajuda a evitar sobreajuste da rede, na medida em que todos os pesos passam a ter a mesma importância, pelo fato de as features estaram na mesma ordem.\n",
    "\n",
    "O algoritmo PCA do pacote *scikit-learn* já centraliza os dados em torno do zero antes de fazer os cálculos (visto que este é um dos requisitos para se aplicar PCA), mas irei rodar a rotina toda de normalização como se este fato não ocorresse. A normalização aplicada é padrão, visto ser a mais comum:\n",
    "\n",
    "$$\n",
    "    x' = \\frac{x - \\mu}{\\sigma}\n",
    "$$\n",
    "\n",
    "Como não encontrei inicialmente um pacote que realizasse a normalização ao longo das features apenas, e que salvasse os parâmetros $\\mu$ e $\\sigma$ obtidos em um conjunto de treinamento, para serem utilizados mais tarde em um conjunto distinto, implementei uma classe para tal, que pode ser vista no apêndice deste exercício."
   ]
  },
  {
   "cell_type": "code",
   "execution_count": 12,
   "metadata": {},
   "outputs": [
    {
     "name": "stdout",
     "output_type": "stream",
     "text": [
      "Normalizing data for neural network.\r\n"
     ]
    }
   ],
   "source": [
    "click.echo(f\"Normalizing data for neural network.\")\n",
    "\n",
    "normalizer = Normalizer()\n",
    "\n",
    "X_train = normalizer.fit_transform(X_train)\n",
    "X_test = normalizer.transform(X_test)"
   ]
  },
  {
   "cell_type": "markdown",
   "metadata": {},
   "source": [
    "Com os dados prontos, o modelo pôde ser construído. Utilizei o pacote `pytorch` para construir a rede neural, e poder executá-la em GPU. O modelo encontra-se em anexo. Para rodar a rotina de treinamento também, constuí uma classe de `pipeline`, que agregasse toda a rotina necessária para treinar um modelo neste pacote.\n",
    "\n",
    "O modelo utilizado foi uma MLP com uma camada escondida de 50 neurônios, e de ativação ReLU. A camada de saída consiste de um neurônio com a função sigmoidal. Para a avaliação da performance com dados binários, o threshold calculado anteriormente foi utilizado. A função de perda sendo otimizada é de entropia cruzada binária, e os pesos foram corrigidos utilizando o otimizador **Adam**.\n",
    "\n",
    "Durante a execução do pipeline de treino, $5\\%$ da amostra foi utilizada como validação, para fins de acompanhamento das métricas de desempenho do modelo ao longo do processo. Isso significa que $95%$ dos dados foram utilizados para treinamento, e o restante ficou de fora para fins de métricas."
   ]
  },
  {
   "cell_type": "code",
   "execution_count": null,
   "metadata": {
    "scrolled": false
   },
   "outputs": [],
   "source": [
    "click.echo(f\"Building model\")\n",
    "\n",
    "device = torch.device(\"cuda\")\n",
    "\n",
    "model = MLP(n_components)\n",
    "model.to(device)\n",
    "optimizer = Adam(model.parameters(), lr=0.001)\n",
    "loss_function = nn.BCELoss()\n",
    "\n",
    "pipeline = Pipeline(epochs=500, validation_size=0.05)\n",
    "\n",
    "click.echo(f\"Initiating training pipeline\")\n",
    "\n",
    "X_train_torch = torch.from_numpy(X_train).float().to(device)\n",
    "y_train_torch = torch.from_numpy(y_train.to_numpy()).float().to(device)\n",
    "\n",
    "X_test_torch = torch.from_numpy(X_test).float().to(device)\n",
    "y_test_torch = torch.from_numpy(y_test.to_numpy()).float().to(device)\n",
    "\n",
    "pipeline.train(\n",
    "    model=model,\n",
    "    optimizer=optimizer,\n",
    "    loss_function=loss_function,\n",
    "    x_train=X_train_torch,\n",
    "    y_train=y_train_torch\n",
    ")"
   ]
  },
  {
   "cell_type": "markdown",
   "metadata": {},
   "source": [
    "As perdas calculadas durante o treinamento, bem como as métricas no conjunto de validação podem ser vistas nos gráficos à seguir."
   ]
  },
  {
   "cell_type": "code",
   "execution_count": 16,
   "metadata": {},
   "outputs": [
    {
     "data": {
      "image/png": "[encoded data removed]",
      "text/plain": [
       "<Figure size 720x504 with 1 Axes>"
      ]
     },
     "metadata": {
      "needs_background": "light"
     },
     "output_type": "display_data"
    }
   ],
   "source": [
    "fig, ax1 = plt.subplots(figsize=(10, 7))\n",
    "ax1.plot(pipeline.train_losses, label='train')\n",
    "ax1.plot(pipeline.validation_losses, label='validation')\n",
    "lines, labels = ax1.get_legend_handles_labels()\n",
    "ax1.legend(lines, labels, loc='best')\n",
    "ax1.set(title='Loss')\n",
    "plt.show()"
   ]
  },
  {
   "cell_type": "code",
   "execution_count": 17,
   "metadata": {},
   "outputs": [
    {
     "data": {
      "image/png": "[encoded data removed]",
      "text/plain": [
       "<Figure size 720x504 with 1 Axes>"
      ]
     },
     "metadata": {
      "needs_background": "light"
     },
     "output_type": "display_data"
    }
   ],
   "source": [
    "fig, ax1 = plt.subplots(figsize=(10, 7))\n",
    "ax1.plot(pipeline.f1_score_validation, label='F1 on validation')\n",
    "lines, labels = ax1.get_legend_handles_labels()\n",
    "ax1.legend(lines, labels, loc='best')\n",
    "ax1.set(title='F1 on Validation')\n",
    "plt.show()"
   ]
  },
  {
   "cell_type": "code",
   "execution_count": 21,
   "metadata": {},
   "outputs": [
    {
     "data": {
      "image/png": "[encoded data removed]",
      "text/plain": [
       "<Figure size 720x504 with 1 Axes>"
      ]
     },
     "metadata": {
      "needs_background": "light"
     },
     "output_type": "display_data"
    }
   ],
   "source": [
    "fig, ax1 = plt.subplots(figsize=(10, 7))\n",
    "ax1.plot(pipeline.accuracy_validation, label='Accuracy on validation')\n",
    "lines, labels = ax1.get_legend_handles_labels()\n",
    "ax1.legend(lines, labels, loc='best')\n",
    "ax1.set(title='Accuracy on Validation')\n",
    "plt.show()"
   ]
  },
  {
   "cell_type": "markdown",
   "metadata": {},
   "source": [
    "E as amostras juntamente com a superfície de separação formada:"
   ]
  },
  {
   "cell_type": "code",
   "execution_count": 22,
   "metadata": {},
   "outputs": [
    {
     "data": {
      "image/png": "[encoded data removed]",
      "text/plain": [
       "<Figure size 720x504 with 1 Axes>"
      ]
     },
     "metadata": {
      "needs_background": "light"
     },
     "output_type": "display_data"
    }
   ],
   "source": [
    "if n_components == 2:\n",
    "    fig, ax1 = plt.subplots(figsize=(10, 7))\n",
    "    ax1.scatter(X_train[y_train == 0, 0], X_train[y_train == 0, 1], label='bad scores')\n",
    "    ax1.scatter(X_train[y_train == 1, 0], X_train[y_train == 1, 1], label='good scores')\n",
    "    lines, labels = ax1.get_legend_handles_labels()\n",
    "    ax1.legend(lines, labels, loc='best')\n",
    "    ax1.set(title='Data distribution')\n",
    "\n",
    "    x_lab = np.linspace(-5, 5, num=1000)\n",
    "    y_lab = np.linspace(-5, 5, num=1000)\n",
    "    x1, x2 = np.meshgrid(x_lab, y_lab)\n",
    "    x_grid = np.transpose(np.vstack([x1.flatten(), x2.flatten()]))\n",
    "\n",
    "    with torch.no_grad():\n",
    "        x_grid_torch = torch.from_numpy(x_grid).float().to(device)\n",
    "        pred = model(x_grid_torch)\n",
    "        z = pred.squeeze().cpu().numpy()\n",
    "    z = z.reshape([1000, 1000])\n",
    "    ax1.contour(x1, x2, z, linewidths=(2.5,))\n",
    "\n",
    "    plt.show()\n",
    "\n",
    "    del pred"
   ]
  },
  {
   "cell_type": "markdown",
   "metadata": {},
   "source": [
    "E, avaliando o modelo obtido sobre os dados separados anteriormente para teste, vemos os resultados à seguir:"
   ]
  },
  {
   "cell_type": "code",
   "execution_count": 23,
   "metadata": {},
   "outputs": [
    {
     "name": "stdout",
     "output_type": "stream",
     "text": [
      "              precision    recall  f1-score   support\n",
      "\n",
      "         0.0       0.61      0.68      0.64      3741\n",
      "         1.0       0.81      0.76      0.78      6673\n",
      "\n",
      "    accuracy                           0.73     10414\n",
      "   macro avg       0.71      0.72      0.71     10414\n",
      "weighted avg       0.74      0.73      0.73     10414\n",
      "\n",
      "F1 score on test data: 0.731369530397033 - auc: 0.7176471646242404\r\n"
     ]
    }
   ],
   "source": [
    "with torch.no_grad():\n",
    "    pred = model(X_test_torch)\n",
    "    y_pred_bin = [1 if d > class_ratio else 0 for d in pred.squeeze().cpu().numpy()]\n",
    "\n",
    "score = f1_score(y_test_torch.cpu().numpy(), y_pred_bin, average='weighted')\n",
    "auc = roc_auc_score(y_test_torch.cpu().numpy(), y_pred_bin, average='weighted')\n",
    "print(classification_report(y_test_torch.cpu().numpy(), y_pred_bin))\n",
    "\n",
    "\n",
    "click.secho(f\"F1 score on test data: {score} - auc: {auc}\", fg='green')"
   ]
  },
  {
   "cell_type": "markdown",
   "metadata": {},
   "source": [
    "Como mencionado, se durante a binarização utilizasse 0.5 como threshold, a performance do modelo final seria pior para a classe com menor número de amostras:"
   ]
  },
  {
   "cell_type": "code",
   "execution_count": 24,
   "metadata": {},
   "outputs": [
    {
     "name": "stdout",
     "output_type": "stream",
     "text": [
      "              precision    recall  f1-score   support\n",
      "\n",
      "         0.0       0.71      0.52      0.60      3741\n",
      "         1.0       0.77      0.88      0.82      6673\n",
      "\n",
      "    accuracy                           0.75     10414\n",
      "   macro avg       0.74      0.70      0.71     10414\n",
      "weighted avg       0.74      0.75      0.74     10414\n",
      "\n",
      "F1 score on test data: 0.7395508795523158 - auc: 0.6992122519692899\r\n"
     ]
    }
   ],
   "source": [
    "with torch.no_grad():\n",
    "    pred = model(X_test_torch)\n",
    "    y_pred_bin = [1 if d > 0.5 else 0 for d in pred.squeeze().cpu().numpy()]\n",
    "\n",
    "score = f1_score(y_test_torch.cpu().numpy(), y_pred_bin, average='weighted')\n",
    "auc = roc_auc_score(y_test_torch.cpu().numpy(), y_pred_bin, average='weighted')\n",
    "print(classification_report(y_test_torch.cpu().numpy(), y_pred_bin))\n",
    "\n",
    "\n",
    "click.secho(f\"F1 score on test data: {score} - auc: {auc}\", fg='green')"
   ]
  },
  {
   "cell_type": "markdown",
   "metadata": {},
   "source": [
    "Podemos ver que apesar de haver uma melhora na precisão da classe 0, há uma queda na precisão da classe 1, e uma queda no recall da classe 0 também, que se reflete no cálculo do f1-score da mesma."
   ]
  },
  {
   "cell_type": "markdown",
   "metadata": {},
   "source": [
    "## Análise dos Resultados"
   ]
  },
  {
   "cell_type": "markdown",
   "metadata": {},
   "source": [
    "A estratégia adotada para a extração de características de texto foi simples. Não foi levado em consideração a estrutura da frase, e o processo de conversão das palavras em tokens levou apenas em consideração a frequência das mesmas. A forma de classificar os textos dos comentários, criando tokens baseados no número de ocorrências de uma palavra no texto pode acabar criando uma relação entre palavras semanticamente diferentes, apenas por terem uma frequência parecida. Por exemplo, pode ser atribuído o token 29 e 30 às palavras `bom` e `quando` por terem uma frequência parecida de ocorrência, e com isso indicar para o classificador que ter essas duas palavras, ou ter somente uma das duas, pode ter uma classificação parecida. Mais do que isso, inserimos ruído nos dados. Por exemplo ter um token 29 pode significar uma classificação positiva na maioria das vezes, porém ter o token 30 não possui uma correlação significativa entre uma classificação positiva e sua ocorrência. Isso pode dificultar do classificador determinar uma borda de separação.\n",
    "\n",
    "Esse tipo de problema na tokenização é comum quando lidamos com dados categóricos, onde inserir números pode acabar criando uma relação de importância, uma hierarquia que não existe de verdade. Por isso por vezes uma tokenização da forma `OneHot Encoding` é preferida, apesar de esparsa.\n",
    "\n",
    "Como pode ser visto no gráfico do espaço bidimensional gerado, houve uma sobreposição das amostras na base resultante, sem um limite claro de um separador possível. Isso explica parte do desempenho da rede.\n",
    "\n",
    "O modelo utilizado também não levava em conta particularidade que poderiam advir do tratamento de texto, como temporalidade, por exemplo. \n",
    "\n",
    "Apesar disso tudo, o modelo obteve um desempenho superior ao esperado para uma aplicação simples, onde, como pode ser visto pelo AUC, possui uma performance superior a um classificador aleatório. Isto demonstra que o processo de extração de características do texto, mesmo que simples, ainda é poderoso no tratamento deste tipo de problema.\n",
    "\n",
    "Para uma melhor performance, o processo de *embedding* das palavras poderia levar em consideração a ocorrência delas no text, por exemplo, de forma a agrupar palavras que tem mais chances de ocorrerem juntas, ou que possam ter características parecidas dentre as amostras de frases observadas, como em treinamentos utilizando Word2Vec e dicionários.\n",
    "\n",
    "O modelo utilizado também poderia levar em consideração a temporalidade das frases, como por exemplo a ordem em que as palavras ocorem, para que passe a analisar uma frase como uma série, por exemplo. A utilização de uma rede LSTM é uma alternativa viável."
   ]
  },
  {
   "cell_type": "markdown",
   "metadata": {},
   "source": [
    "## Referências\n",
    "\n",
    "\n",
    "\n",
    "[1] Olist and André Sionek, “Brazilian E-Commerce Public Dataset by Olist.” Kaggle, doi: 10.34740/KAGGLE/DSV/195341.\n",
    "\n",
    "[2] Honnibal, Matthew and Montani, Ines, spaCy 2: Natural language understanding with Bloom embeddings, convolutional neural networks and incremental parsing. 2017."
   ]
  },
  {
   "cell_type": "markdown",
   "metadata": {},
   "source": [
    "---"
   ]
  },
  {
   "cell_type": "markdown",
   "metadata": {},
   "source": [
    "# Apêndice"
   ]
  },
  {
   "cell_type": "markdown",
   "metadata": {},
   "source": [
    "## text_tokenizer.py"
   ]
  },
  {
   "cell_type": "code",
   "execution_count": null,
   "metadata": {},
   "outputs": [],
   "source": [
    "import json\n",
    "from collections import Counter\n",
    "from os.path import join\n",
    "from typing import List, AnyStr, Union, Dict\n",
    "\n",
    "import click\n",
    "import numpy as np\n",
    "import pandas as pd\n",
    "import spacy\n",
    "import unidecode as ud\n",
    "from sklearn.model_selection import train_test_split\n",
    "\n",
    "\n",
    "class TextTokenizer:\n",
    "    \"\"\"\n",
    "    Receives a document or a document dataset and creates a mapping of words to numerical tokens, based on occurrence.\n",
    "    \"\"\"\n",
    "\n",
    "    def __init__(\n",
    "            self,\n",
    "            data: Union[pd.DataFrame, str] = None,\n",
    "            column_name: str = None,\n",
    "            n_tokens: int = 100,\n",
    "            use_gpu: bool = False\n",
    "    ):\n",
    "        \"\"\"\n",
    "        Constructor method of the Tokenizer object.\n",
    "\n",
    "        Parameters\n",
    "        ----------\n",
    "        data: Union[pd.DataFrame, str]\n",
    "            The document or dataset to be analysed.\n",
    "        column_name:\n",
    "            If the document is a pandas data frame, this parameter  indicates the name of the column with the documents.\n",
    "        n_tokens: int\n",
    "            The number of valid words to create the mapping with.\n",
    "        use_gpu: bool\n",
    "            Allow GPU use for spaCy package.\n",
    "        \"\"\"\n",
    "\n",
    "        if data is not None and data.all() is not None and not data.empty:\n",
    "\n",
    "            self.map: Dict = {}\n",
    "            self.n_tokens = n_tokens\n",
    "\n",
    "            if use_gpu:\n",
    "                click.secho(\"Using GPU for spacy.\", fg='yellow')\n",
    "                spacy.prefer_gpu()\n",
    "\n",
    "            self.nlp = spacy.load(\"pt_core_news_sm\")\n",
    "            words = []\n",
    "            if isinstance(data, pd.DataFrame):\n",
    "                words = self._from_df(data, column_name)\n",
    "            elif isinstance(data, str):\n",
    "                words = self._from_string(data)\n",
    "            else:\n",
    "                raise ValueError(f\"Not recognized type {type(data)}.\")\n",
    "\n",
    "            self.fit(words)\n",
    "\n",
    "    def clean_string(self, data: str) -> List[AnyStr]:\n",
    "        \"\"\"\n",
    "        Receives a string phrase and return a list of words from it, considering Nouns, Adverbs, Adjectives and Verbs.\n",
    "        This method uses spaCy package to parse and identify words. For each word listed, it returns its lower case\n",
    "        lemma, with accentuation removed (process called normalization of a string).\n",
    "\n",
    "        Parameters\n",
    "        ----------\n",
    "        data: str\n",
    "            The phrase to be parsed.\n",
    "\n",
    "        Returns\n",
    "        -------\n",
    "        List[AnyStr]:\n",
    "            List of the normalized lower case lemma for each word.\n",
    "        \"\"\"\n",
    "\n",
    "        doc = self.nlp(data)\n",
    "        clean_words = []\n",
    "        for token in doc:\n",
    "            if token.pos_ not in [\"NOUN\", \"ADV\", \"ADJ\", \"VERB\"]:\n",
    "                continue\n",
    "            clean_words.append(ud.unidecode(token.lemma_.lower()))\n",
    "\n",
    "        return clean_words\n",
    "\n",
    "    def _from_df(self, df: pd.DataFrame, column_name: str) -> List[AnyStr]:\n",
    "        \"\"\"\n",
    "        Returns a list of words from a pandas DataFrame object.\n",
    "\n",
    "        Parameters\n",
    "        ----------\n",
    "        df: pd.Dataframe\n",
    "            Pandas data frame with the strings to be parsed.\n",
    "        column_name: str\n",
    "            Name of the column with the strings.\n",
    "\n",
    "        Returns\n",
    "        -------\n",
    "        List[AnyStr]:\n",
    "            List of words of the data frame, with repetitions.\n",
    "        \"\"\"\n",
    "\n",
    "        words = []\n",
    "        with click.progressbar(df.iterrows(), length=df.shape[0], label=\"Reading data frame\") as bar:\n",
    "            for index, row in bar:\n",
    "                words += self.clean_string(row[column_name])\n",
    "\n",
    "        return words\n",
    "\n",
    "    def _from_string(self, s: AnyStr) -> List[AnyStr]:\n",
    "        \"\"\"\n",
    "         Returns a list of words from a string object.\n",
    "\n",
    "        Parameters\n",
    "        ----------\n",
    "        s: str\n",
    "            The string to be parsed.\n",
    "\n",
    "        Returns\n",
    "        -------\n",
    "        List[AnyStr]:\n",
    "            List of words of the string, with repetitions.\n",
    "        \"\"\"\n",
    "\n",
    "        return self.clean_string(s)\n",
    "\n",
    "    def fit(self, words: List[AnyStr]) -> None:\n",
    "        \"\"\"\n",
    "        With a list of words, create a mapping String to Integer considering number of occurrences as importance order.\n",
    "        Words with higher occurrences receive a higher token value.\n",
    "\n",
    "        Parameters\n",
    "        ----------\n",
    "        words: List[AnyStr]\n",
    "            List of the words occurred.\n",
    "\n",
    "        Returns\n",
    "        -------\n",
    "            None.\n",
    "        \"\"\"\n",
    "        count_words = Counter(words)\n",
    "        word_order = [k for k, v in sorted(count_words.items(), key=lambda item: item[1], reverse=True)]\n",
    "        click.secho(f\"{len(word_order)} words mapped.\", fg='green')\n",
    "        word_map = zip(word_order[0:self.n_tokens], np.arange(self.n_tokens-1, 0, -1))\n",
    "        self.map = {word: int(value) for word, value in word_map}\n",
    "\n",
    "    def get(self, word: str) -> int:\n",
    "        \"\"\"\n",
    "        Do a search on the word map.\n",
    "\n",
    "        Parameters\n",
    "        ----------\n",
    "        word: str\n",
    "            Word to be mapped.\n",
    "\n",
    "        Returns\n",
    "        -------\n",
    "        int:\n",
    "            The respective token value, according th the mapping.\n",
    "        \"\"\"\n",
    "        return self.map.get(ud.unidecode(word), 0)\n",
    "\n",
    "    def load(self, map: Dict):\n",
    "        self.map = map\n",
    "        self.n_tokens = len(map)\n",
    "\n",
    "        return self"
   ]
  },
  {
   "cell_type": "markdown",
   "metadata": {},
   "source": [
    "---"
   ]
  },
  {
   "cell_type": "markdown",
   "metadata": {},
   "source": [
    "## normalizer.py"
   ]
  },
  {
   "cell_type": "code",
   "execution_count": null,
   "metadata": {},
   "outputs": [],
   "source": [
    "import numpy as np\n",
    "import pandas as pd\n",
    "from typing import Dict, List, Union\n",
    "import click\n",
    "\n",
    "\n",
    "class Normalizer:\n",
    "\n",
    "    def __init__(self):\n",
    "        self.params: List[Dict] = []\n",
    "\n",
    "    def fit(self, data: Union[np.ndarray, pd.DataFrame]):\n",
    "        \"\"\"\n",
    "        Considering a base dataset, obtain the parameters used to calculate the normalization.\n",
    "        \n",
    "        Parameters\n",
    "        ----------\n",
    "        data: Union[np.ndarray, pd.DataFrame]\n",
    "            Input data\n",
    "\n",
    "        Returns\n",
    "        -------\n",
    "            None.\n",
    "        \"\"\"\n",
    "\n",
    "        is_data_frame = isinstance(data, pd.DataFrame)\n",
    "\n",
    "        for c in range(data.shape[1]):\n",
    "            if is_data_frame:\n",
    "                self.params.append({'mean': np.mean(data.iloc[:, c]), 'std': np.std(data.iloc[:, c])})\n",
    "            else:\n",
    "                self.params.append({'mean': np.mean(data[:, c]), 'std': np.std(data[:, c])})\n",
    "\n",
    "    def transform(self, data: Union[np.ndarray, pd.DataFrame]):\n",
    "        \"\"\"\n",
    "        Apply normalization calculation upon a data matrix.\n",
    "        \n",
    "        Parameters\n",
    "        ----------\n",
    "        data: Union[np.ndarray, pd.DataFrame]\n",
    "            Input data to be transformec\n",
    "\n",
    "        Returns\n",
    "        -------\n",
    "        Union[np.ndarray, pd.DataFrame]:\n",
    "            Output transformed matrix. \n",
    "        \"\"\"\n",
    "        data_trans = data.copy()\n",
    "\n",
    "        is_data_frame = isinstance(data, pd.DataFrame)\n",
    "\n",
    "        with click.progressbar(length=np.prod(data.shape), label=\"Transforming data\") as bar:\n",
    "            for index in range(data.shape[0]):\n",
    "                for c in range(data.shape[1]):\n",
    "                    if is_data_frame:\n",
    "                        data_trans.iloc[index, c] = (data.iloc[index, c] - self.params[c][\"mean\"]) / self.params[c]['std']\n",
    "                    else:\n",
    "                        data_trans[index, c] = (data[index, c] - self.params[c][\"mean\"]) / self.params[c]['std']\n",
    "                    bar.update(1)\n",
    "\n",
    "        return data_trans\n",
    "\n",
    "    def fit_transform(self, data: Union[np.ndarray, pd.DataFrame]):\n",
    "        \"\"\"\n",
    "        Fit data and transforms it.\n",
    "        \n",
    "        Parameters\n",
    "        ----------\n",
    "        data: Union[np.ndarray, pd.DataFrame]\n",
    "            Input data matrix.\n",
    "\n",
    "        Returns\n",
    "        -------\n",
    "        Union[np.ndarray, pd.DataFrame]:\n",
    "            Output transformed matrix.\n",
    "        \"\"\"\n",
    "        self.fit(data)\n",
    "\n",
    "        return self.transform(data)"
   ]
  },
  {
   "cell_type": "markdown",
   "metadata": {},
   "source": [
    "---"
   ]
  },
  {
   "cell_type": "markdown",
   "metadata": {},
   "source": [
    "## model.py"
   ]
  },
  {
   "cell_type": "code",
   "execution_count": null,
   "metadata": {},
   "outputs": [],
   "source": [
    "import torch.nn as nn\n",
    "\n",
    "\n",
    "class MLP(nn.Module):\n",
    "    def __init__(self, features: int):\n",
    "        super(MLP, self).__init__()\n",
    "        self.layers = nn.Sequential(\n",
    "            nn.Linear(features, 50),\n",
    "            nn.ReLU(),\n",
    "            nn.Linear(50, 1),\n",
    "            nn.Sigmoid(),\n",
    "        )\n",
    "\n",
    "    def forward(self, x):\n",
    "        x = self.layers(x)\n",
    "\n",
    "        return x"
   ]
  },
  {
   "cell_type": "markdown",
   "metadata": {},
   "source": [
    "---"
   ]
  },
  {
   "cell_type": "markdown",
   "metadata": {},
   "source": [
    "## pipelines.py"
   ]
  },
  {
   "cell_type": "code",
   "execution_count": null,
   "metadata": {},
   "outputs": [],
   "source": [
    "from typing import List, Union\n",
    "\n",
    "import numpy as np\n",
    "import torch\n",
    "from sklearn.metrics import f1_score, balanced_accuracy_score\n",
    "from torch.nn import Module\n",
    "from torch.optim.optimizer import Optimizer\n",
    "\n",
    "\n",
    "class Pipeline:\n",
    "\n",
    "    def __init__(self, epochs: int = 100, splits: int = 5, validation_size: Union[int, float] = None):\n",
    "        self.train_losses: List = []\n",
    "        self.validation_losses: List = []\n",
    "        self.f1_score_validation: List = []\n",
    "        self.accuracy_validation: List = []\n",
    "        self.val_size = validation_size\n",
    "        self.epochs = epochs\n",
    "        self.splits = splits\n",
    "\n",
    "    def train(self, model: Module, optimizer: Optimizer, loss_function, x_train, y_train):\n",
    "\n",
    "        if (self.val_size <= 1.0) and (self.val_size >= 0.0):\n",
    "            num_val_samples = int(self.val_size * x_train.shape[0])\n",
    "        elif self.val_size > 1:\n",
    "            if self.val_size >= x_train.shape[0]:\n",
    "                raise ValueError(f\"Number of validation samples to be used ({self.val_size}) is equal or superior of training set sample count ({x_train.shape[0]}).\")\n",
    "            num_val_samples = int(self.val_size)\n",
    "        else:\n",
    "            num_val_samples = 0\n",
    "\n",
    "        train_index, val_index = np.split(np.arange(x_train.shape[0]), [-num_val_samples])\n",
    "\n",
    "        class_ratio = 0.5\n",
    "\n",
    "        if num_val_samples > 0:\n",
    "            print(f\"Using {len(train_index)} samples to train and {len(val_index)} samples as validation set.\")\n",
    "            class_ratio = y_train[y_train == 1].shape[0] / y_train.shape[0]\n",
    "            print(f\"Class ratio: {class_ratio:0.2f} % of the samples within validation set belong to class 1.\")\n",
    "\n",
    "        for epoch in range(self.epochs):\n",
    "            model.train()\n",
    "\n",
    "            train_losses = []\n",
    "            test_losses = []\n",
    "            f1_scores = []\n",
    "            accs = []\n",
    "\n",
    "            val_log = \"\"\n",
    "\n",
    "            optimizer.zero_grad()\n",
    "\n",
    "            pred = model(x_train[train_index, :])\n",
    "            loss = loss_function(pred.squeeze(), y_train[train_index])\n",
    "            loss.backward()\n",
    "            train_loss = loss.item()\n",
    "            train_losses.append(train_loss)\n",
    "            optimizer.step()\n",
    "\n",
    "            if num_val_samples:\n",
    "                model.eval()\n",
    "\n",
    "                with torch.no_grad():\n",
    "                    pred = model(x_train[val_index, :])\n",
    "                    loss = loss_function(pred.squeeze(), y_train[val_index])\n",
    "                    test_loss = loss.item()\n",
    "                    test_losses.append(test_loss)\n",
    "                    y_pred_bin = [1 if d > class_ratio else 0 for d in pred.squeeze().cpu().numpy()]\n",
    "                    f1 = f1_score(y_train[val_index].cpu().numpy(), y_pred_bin, average='weighted')\n",
    "                    acc = balanced_accuracy_score(y_train[val_index].cpu().numpy(), y_pred_bin)\n",
    "                    f1_scores.append(f1)\n",
    "                    accs.append(acc)\n",
    "\n",
    "                avg_test_loss = np.mean(test_losses)\n",
    "                avg_f1 = np.mean(f1_scores)\n",
    "                avg_acc = np.mean(accs)\n",
    "                self.validation_losses.append(avg_test_loss)\n",
    "                self.f1_score_validation.append(avg_f1)\n",
    "                self.accuracy_validation.append(avg_acc)\n",
    "\n",
    "                val_log = f\" - val loss: {avg_test_loss:.4f} - val f1 score: {avg_f1:0.4f} - val acc: {avg_acc:.4f}\"\n",
    "\n",
    "            avg_train_loss = np.mean(train_losses)\n",
    "            self.train_losses.append(avg_train_loss)\n",
    "\n",
    "            print(f\"Epoch {epoch} of {self.epochs} - train loss: {avg_train_loss:.4f}{val_log}.\")\n",
    "\n",
    "        model.eval()\n",
    "        print(f\"Training finished.\")\n",
    "\n"
   ]
  }
 ],
 "metadata": {
  "kernelspec": {
   "display_name": "Python 3",
   "language": "python",
   "name": "python3"
  },
  "language_info": {
   "codemirror_mode": {
    "name": "ipython",
    "version": 3
   },
   "file_extension": ".py",
   "mimetype": "text/x-python",
   "name": "python",
   "nbconvert_exporter": "python",
   "pygments_lexer": "ipython3",
   "version": "3.7.5"
  }
 },
 "nbformat": 4,
 "nbformat_minor": 4
}
